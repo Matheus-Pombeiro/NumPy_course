{
  "nbformat": 4,
  "nbformat_minor": 0,
  "metadata": {
    "colab": {
      "provenance": [],
      "authorship_tag": "ABX9TyPjR6TShehjU3KZ00xGBg8r",
      "include_colab_link": true
    },
    "kernelspec": {
      "name": "python3",
      "display_name": "Python 3"
    },
    "language_info": {
      "name": "python"
    }
  },
  "cells": [
    {
      "cell_type": "markdown",
      "metadata": {
        "id": "view-in-github",
        "colab_type": "text"
      },
      "source": [
        "<a href=\"https://colab.research.google.com/github/Matheus-Pombeiro/NumPy_course/blob/main/NumPy_course.ipynb\" target=\"_parent\"><img src=\"https://colab.research.google.com/assets/colab-badge.svg\" alt=\"Open In Colab\"/></a>"
      ]
    },
    {
      "cell_type": "markdown",
      "source": [
        "# **NumPy Course**\n",
        "\n",
        "## Using NumPy librarie to deal with a apple price dataset in Russia"
      ],
      "metadata": {
        "id": "XX_Ps-_2lrVj"
      }
    },
    {
      "cell_type": "markdown",
      "source": [
        "Importing NumPy librarie"
      ],
      "metadata": {
        "id": "g_no5du1mLWQ"
      }
    },
    {
      "cell_type": "code",
      "execution_count": null,
      "metadata": {
        "id": "TJc7YzsQjjEk"
      },
      "outputs": [],
      "source": [
        "import numpy as np"
      ]
    },
    {
      "cell_type": "markdown",
      "source": [
        "Importing a url to get the apple price dataset"
      ],
      "metadata": {
        "id": "tuS5-BWXqoZQ"
      }
    },
    {
      "cell_type": "code",
      "source": [
        "url = 'https://raw.githubusercontent.com/alura-cursos/numpy/dados/apples_ts.csv'"
      ],
      "metadata": {
        "id": "BwS-x1D2quZY"
      },
      "execution_count": null,
      "outputs": []
    },
    {
      "cell_type": "markdown",
      "source": [
        "Calling the 'loadtxt()' function from NumPy to use the 'apples_ts.csv' file\n"
      ],
      "metadata": {
        "id": "3hh8VHrqmq1z"
      }
    },
    {
      "cell_type": "code",
      "source": [
        "data = np.loadtxt(url, delimiter=',', usecols=np.arange(1, 88, 1))"
      ],
      "metadata": {
        "id": "xd-rXmytmWDz"
      },
      "execution_count": null,
      "outputs": []
    },
    {
      "cell_type": "markdown",
      "source": [
        "Calculating a number to generate a sequence of months. 7: number of years; 12: number of months of each year; 3: number of months of the last year (2020)"
      ],
      "metadata": {
        "id": "GZI6LgTOoGSw"
      }
    },
    {
      "cell_type": "code",
      "source": [
        "7 * 12 + 3"
      ],
      "metadata": {
        "colab": {
          "base_uri": "https://localhost:8080/"
        },
        "id": "cpKkVGdNo0T0",
        "outputId": "2b9bc0c5-d432-4376-f198-912410a1e5ff"
      },
      "execution_count": null,
      "outputs": [
        {
          "output_type": "execute_result",
          "data": {
            "text/plain": [
              "87"
            ]
          },
          "metadata": {},
          "execution_count": 4
        }
      ]
    },
    {
      "cell_type": "markdown",
      "source": [
        "Generating the sequence of months to be used on the apple price dataset with 'arange()' function from NumPy\n",
        "\n",
        "PS: we need need to use 87 + 1 (88) to get 87 values"
      ],
      "metadata": {
        "id": "Uh1B4t00o3_T"
      }
    },
    {
      "cell_type": "code",
      "source": [
        "np.arange(1, 88, 1)"
      ],
      "metadata": {
        "colab": {
          "base_uri": "https://localhost:8080/"
        },
        "id": "-yxbL6BkpmPf",
        "outputId": "181dfca9-e4b4-4aa7-fb75-0eef94365e2e"
      },
      "execution_count": null,
      "outputs": [
        {
          "output_type": "execute_result",
          "data": {
            "text/plain": [
              "array([ 1,  2,  3,  4,  5,  6,  7,  8,  9, 10, 11, 12, 13, 14, 15, 16, 17,\n",
              "       18, 19, 20, 21, 22, 23, 24, 25, 26, 27, 28, 29, 30, 31, 32, 33, 34,\n",
              "       35, 36, 37, 38, 39, 40, 41, 42, 43, 44, 45, 46, 47, 48, 49, 50, 51,\n",
              "       52, 53, 54, 55, 56, 57, 58, 59, 60, 61, 62, 63, 64, 65, 66, 67, 68,\n",
              "       69, 70, 71, 72, 73, 74, 75, 76, 77, 78, 79, 80, 81, 82, 83, 84, 85,\n",
              "       86, 87])"
            ]
          },
          "metadata": {},
          "execution_count": 5
        }
      ]
    },
    {
      "cell_type": "markdown",
      "source": [
        "Calling the data"
      ],
      "metadata": {
        "id": "TvXy9z282sZH"
      }
    },
    {
      "cell_type": "code",
      "source": [
        "data"
      ],
      "metadata": {
        "colab": {
          "base_uri": "https://localhost:8080/"
        },
        "id": "2TEx9Hmk2yqW",
        "outputId": "5c07d103-5514-45a2-8fa8-5b6ac0898fee"
      },
      "execution_count": null,
      "outputs": [
        {
          "output_type": "execute_result",
          "data": {
            "text/plain": [
              "array([[  1.2013,   2.2013,   3.2013,   4.2013,   5.2013,   6.2013,\n",
              "          7.2013,   8.2013,   9.2013,  10.2013,  11.2013,  12.2013,\n",
              "          1.2014,   2.2014,   3.2014,   4.2014,   5.2014,   6.2014,\n",
              "          7.2014,   8.2014,   9.2014,  10.2014,  11.2014,  12.2014,\n",
              "          1.2015,   2.2015,   3.2015,   4.2015,   5.2015,   6.2015,\n",
              "          7.2015,   8.2015,   9.2015,  10.2015,  11.2015,  12.2015,\n",
              "          1.2016,   2.2016,   3.2016,   4.2016,   5.2016,   6.2016,\n",
              "          7.2016,   8.2016,   9.2016,  10.2016,  11.2016,  12.2016,\n",
              "          1.2017,   2.2017,   3.2017,   4.2017,   5.2017,   6.2017,\n",
              "          7.2017,   8.2017,   9.2017,  10.2017,  11.2017,  12.2017,\n",
              "          1.2018,   2.2018,   3.2018,   4.2018,   5.2018,   6.2018,\n",
              "          7.2018,   8.2018,   9.2018,  10.2018,  11.2018,  12.2018,\n",
              "          1.2019,   2.2019,   3.2019,   4.2019,   5.2019,   6.2019,\n",
              "          7.2019,   8.2019,   9.2019,  10.2019,  11.2019,  12.2019,\n",
              "          1.202 ,   2.202 ,   3.202 ],\n",
              "       [ 79.72  ,  81.08  ,  79.68  ,  79.8   ,  80.63  ,  80.8   ,\n",
              "         80.28  ,  78.99  ,  76.77  ,  76.09  ,  76.36  ,  77.16  ,\n",
              "         77.5   ,  79.03  ,  80.28  ,  80.05  ,  78.11  ,  76.9   ,\n",
              "         77.68  ,  76.05  ,  75.53  ,  73.39  ,  78.36  ,  89.16  ,\n",
              "        105.43  , 104.82  , 101.15  ,  98.63  ,  99.96  ,  97.29  ,\n",
              "         98.64  , 104.26  , 102.63  ,  98.64  ,  97.17  ,  98.09  ,\n",
              "        103.07  , 110.26  , 110.84  , 112.28  , 111.1   , 110.06  ,\n",
              "        113.7   , 112.88  , 102.08  ,  95.54  ,  91.33  ,  89.99  ,\n",
              "         91.44  ,  93.51  ,  93.6   ,  93.78  ,  98.91  , 121.76  ,\n",
              "        129.6   , 127.9   , 114.55  , 101.88  ,  99.09  , 103.35  ,\n",
              "        106.58  , 108.    , 114.95  , 121.17  , 122.48  , 127.58  ,\n",
              "        131.89  , 129.36  , 104.26  ,  93.45  ,  92.93  ,  96.15  ,\n",
              "         99.1   , 103.    , 103.31  , 103.01  , 107.37  , 116.91  ,\n",
              "        125.29  , 123.94  , 113.03  , 102.19  ,  97.83  , 101.07  ,\n",
              "        103.44  , 108.23  , 110.28  ],\n",
              "       [ 42.67  ,  44.37  ,  44.73  ,  46.75  ,      nan,  51.59  ,\n",
              "         57.8   ,  62.14  ,  56.76  ,  50.85  ,  46.43  ,  46.73  ,\n",
              "         45.85  ,  49.25  ,  48.14  ,  49.18  ,  49.49  ,  49.83  ,\n",
              "         49.14  ,  63.21  ,  61.2   ,  60.34  ,  62.2   ,  74.2   ,\n",
              "         75.32  ,  75.92  ,  72.89  ,  74.85  ,  92.19  ,  99.7   ,\n",
              "        102.78  ,  92.67  ,  90.63  ,  83.31  ,  75.5   ,  74.6   ,\n",
              "         76.94  ,  83.04  ,  80.74  ,  80.29  ,  82.82  ,  86.29  ,\n",
              "         87.41  ,  85.1   ,  78.08  ,  76.06  ,  69.23  ,  69.04  ,\n",
              "         64.48  ,  65.73  ,  67.2   ,  70.25  ,  82.59  ,  92.12  ,\n",
              "        100.82  ,  95.23  ,  89.51  ,  82.84  ,  82.3   ,  83.76  ,\n",
              "         84.72  ,  83.91  ,  99.14  , 101.6   , 113.03  , 119.54  ,\n",
              "        118.09  , 107.32  ,  82.6   ,  77.4   ,  71.77  ,  71.25  ,\n",
              "         71.35  ,  73.62  ,  76.2   ,  74.15  ,  75.67  ,  79.2   ,\n",
              "         80.85  ,  85.33  ,  75.02  ,  77.95  ,  78.98  ,  76.55  ,\n",
              "         74.89  ,  70.    ,  81.53  ],\n",
              "       [ 62.55  ,  62.73  ,  63.43  ,  63.83  ,  66.06  ,  69.22  ,\n",
              "         72.07  ,  69.31  ,  65.18  ,  62.13  ,  64.17  ,  65.5   ,\n",
              "         66.85  ,  68.38  ,  68.77  ,  69.32  ,  69.77  ,  70.17  ,\n",
              "         70.76  ,  75.16  ,  74.86  ,  71.47  ,  76.08  ,  82.11  ,\n",
              "         94.63  ,  98.54  ,  97.84  ,  94.54  ,  97.88  ,  97.73  ,\n",
              "        100.89  , 104.88  , 104.39  , 101.9   ,  98.99  ,  99.42  ,\n",
              "        106.37  , 113.89  , 114.78  , 115.6   , 115.89  , 117.66  ,\n",
              "        118.27  , 114.19  , 101.81  ,  91.62  ,  90.15  ,  90.55  ,\n",
              "         92.3   ,  91.75  ,  92.    ,  92.57  , 100.28  , 114.33  ,\n",
              "        122.17  , 117.83  , 112.49  ,  93.7   ,  97.17  ,  95.64  ,\n",
              "        102.21  , 107.58  , 110.48  , 117.73  , 122.07  , 128.58  ,\n",
              "        131.12  , 127.08  , 110.99  ,  97.43  ,  92.05  ,  93.21  ,\n",
              "         98.58  , 100.23  , 102.09  , 101.73  , 107.28  , 115.35  ,\n",
              "        123.03  , 123.08  , 109.71  ,  97.22  ,  95.75  ,  97.09  ,\n",
              "         98.18  , 103.1   , 110.6   ],\n",
              "       [ 48.26  ,  51.01  ,  50.91  ,  53.94  ,  61.27  ,  65.44  ,\n",
              "         56.51  ,  53.    ,  43.87  ,  42.12  ,  43.98  ,  44.66  ,\n",
              "         47.73  ,  52.31  ,  56.8   ,  51.15  ,  54.63  ,  55.8   ,\n",
              "         57.31  ,  53.81  ,  55.5   ,  52.95  ,  53.29  ,  54.86  ,\n",
              "         71.72  ,  74.36  ,  78.25  ,  70.63  ,  77.06  ,  81.52  ,\n",
              "         84.12  ,  83.33  ,  66.98  ,  62.04  ,  59.79  ,  66.06  ,\n",
              "         71.99  ,  76.79  ,  80.98  ,  89.18  ,  92.71  ,  94.85  ,\n",
              "         99.18  ,  86.33  ,  71.94  ,  67.18  ,  62.98  ,  69.45  ,\n",
              "         67.56  ,  67.92  ,  68.4   ,  67.97  ,  76.33  ,  95.79  ,\n",
              "        112.36  ,  82.03  ,  73.83  ,  66.12  ,  63.24  ,  63.98  ,\n",
              "         69.1   ,  70.04  ,  80.03  ,  87.92  ,  97.07  , 106.52  ,\n",
              "        108.93  ,  95.17  ,  74.31  ,  62.63  ,  69.92  ,  70.58  ,\n",
              "         74.63  ,  78.69  ,  81.82  ,  82.36  ,  89.44  , 102.01  ,\n",
              "        116.12  ,  92.06  ,  82.7   ,  66.62  ,  68.11  ,  73.48  ,\n",
              "         82.04  ,  81.19  ,  95.05  ],\n",
              "       [ 71.25  ,  71.35  ,  70.9   ,  71.92  ,  72.91  ,  74.39  ,\n",
              "         73.1   ,  70.24  ,  69.12  ,  68.98  ,  68.58  ,  69.5   ,\n",
              "         70.14  ,  70.58  ,  70.78  ,  72.78  ,  72.84  ,  74.74  ,\n",
              "         76.43  ,  81.2   ,  82.04  ,  79.67  ,  81.25  ,  85.88  ,\n",
              "         91.35  , 101.32  , 102.45  ,  98.18  , 105.1   , 104.85  ,\n",
              "        111.48  , 118.51  , 118.92  , 109.87  , 105.22  , 105.45  ,\n",
              "        115.61  , 116.61  , 120.39  , 119.2   , 119.92  , 120.57  ,\n",
              "        123.37  , 121.39  , 118.16  , 108.84  , 100.78  ,  99.92  ,\n",
              "        100.65  ,  98.92  , 100.31  ,  96.41  , 101.24  , 118.7   ,\n",
              "        133.29  , 130.31  , 122.4   , 104.98  , 107.54  , 110.74  ,\n",
              "        110.51  , 111.46  , 113.42  , 118.15  , 114.    , 124.91  ,\n",
              "        126.06  , 123.3   , 111.61  ,  98.82  ,  97.47  , 103.01  ,\n",
              "        109.36  , 104.79  , 105.09  , 103.16  , 106.52  , 121.68  ,\n",
              "        125.32  , 123.41  , 108.48  ,  98.73  ,  96.25  , 100.12  ,\n",
              "        101.29  , 102.81  , 108.53  ]])"
            ]
          },
          "metadata": {},
          "execution_count": 10
        }
      ]
    },
    {
      "cell_type": "markdown",
      "source": [
        "Verifying the dimension, size and shape of the dataset"
      ],
      "metadata": {
        "id": "KlsoS-QX24Sy"
      }
    },
    {
      "cell_type": "code",
      "source": [
        "# Number of dimensions (lines and cols)\n",
        "data.ndim"
      ],
      "metadata": {
        "colab": {
          "base_uri": "https://localhost:8080/"
        },
        "id": "0zXH1axX2-ob",
        "outputId": "93e90599-ebdc-4a04-f9af-7aa0882dd9af"
      },
      "execution_count": null,
      "outputs": [
        {
          "output_type": "execute_result",
          "data": {
            "text/plain": [
              "2"
            ]
          },
          "metadata": {},
          "execution_count": 11
        }
      ]
    },
    {
      "cell_type": "code",
      "source": [
        "# Number of data elements\n",
        "data.size"
      ],
      "metadata": {
        "colab": {
          "base_uri": "https://localhost:8080/"
        },
        "id": "JfwbcRGR3L6L",
        "outputId": "ff37861b-850f-4487-bb0d-13cdebef6b4e"
      },
      "execution_count": null,
      "outputs": [
        {
          "output_type": "execute_result",
          "data": {
            "text/plain": [
              "522"
            ]
          },
          "metadata": {},
          "execution_count": 12
        }
      ]
    },
    {
      "cell_type": "code",
      "source": [
        "# Number of elements in each dimension (lines and cols)\n",
        "data.shape"
      ],
      "metadata": {
        "colab": {
          "base_uri": "https://localhost:8080/"
        },
        "id": "4cZqZkMD3vGW",
        "outputId": "fe5d6904-8beb-4d60-f2b4-2c5691c990d5"
      },
      "execution_count": null,
      "outputs": [
        {
          "output_type": "execute_result",
          "data": {
            "text/plain": [
              "(6, 87)"
            ]
          },
          "metadata": {},
          "execution_count": 13
        }
      ]
    },
    {
      "cell_type": "markdown",
      "source": [
        "Make a data transposition on the dataset"
      ],
      "metadata": {
        "id": "XMWE5Vk74xkD"
      }
    },
    {
      "cell_type": "code",
      "source": [
        "transposed_data = data.T"
      ],
      "metadata": {
        "id": "2ezeIfr746fT"
      },
      "execution_count": null,
      "outputs": []
    },
    {
      "cell_type": "markdown",
      "source": [
        "Getting the date, price col from the dataset"
      ],
      "metadata": {
        "id": "8r9Xf_ML_Dxj"
      }
    },
    {
      "cell_type": "code",
      "source": [
        "''' [:,:] -> used to get elements from a list.\n",
        "The first range of elements gets lines and the second gets cols '''\n",
        "\n",
        "dates = transposed_data[:,0]\n",
        "\n",
        "prices = transposed_data[:,1:6]"
      ],
      "metadata": {
        "id": "vjrsUi1T_Po8"
      },
      "execution_count": null,
      "outputs": []
    },
    {
      "cell_type": "markdown",
      "source": [
        "Importing 'matplotlib' library to generates graphs and charts"
      ],
      "metadata": {
        "id": "6NHfHLBU_4VP"
      }
    },
    {
      "cell_type": "code",
      "source": [
        "import matplotlib.pyplot as plt"
      ],
      "metadata": {
        "id": "petW7dpGAVIG"
      },
      "execution_count": null,
      "outputs": []
    },
    {
      "cell_type": "markdown",
      "source": [
        "Generating a price graph of Moscow"
      ],
      "metadata": {
        "id": "rcYNAj3HAifG"
      }
    },
    {
      "cell_type": "code",
      "source": [
        "dates = np.arange(1, 88, 1)\n",
        "plt.plot(dates, prices[:,0])"
      ],
      "metadata": {
        "colab": {
          "base_uri": "https://localhost:8080/",
          "height": 447
        },
        "id": "2ePynC9mAoqG",
        "outputId": "d092e182-6176-4ea1-b177-5f66fe11c7df"
      },
      "execution_count": null,
      "outputs": [
        {
          "output_type": "execute_result",
          "data": {
            "text/plain": [
              "[<matplotlib.lines.Line2D at 0x7a3fb83c2f20>]"
            ]
          },
          "metadata": {},
          "execution_count": 21
        },
        {
          "output_type": "display_data",
          "data": {
            "text/plain": [
              "<Figure size 640x480 with 1 Axes>"
            ],
            "image/png": "[encoded data removed]"
          },
          "metadata": {}
        }
      ]
    },
    {
      "cell_type": "markdown",
      "source": [
        "Getting the prices of each city"
      ],
      "metadata": {
        "id": "74-FvC-4BxJq"
      }
    },
    {
      "cell_type": "code",
      "source": [
        "Moscow = prices[:,0]\n",
        "Kaliningrad = prices[:,1]\n",
        "Petersburg = prices[:,2]\n",
        "Krasnodar = prices[:,3]\n",
        "Ekaterinburg = prices[:,4]\n",
        "\n",
        "Moscow"
      ],
      "metadata": {
        "colab": {
          "base_uri": "https://localhost:8080/"
        },
        "id": "fGwUe4cGB7SD",
        "outputId": "effb9f0c-c901-46bd-97d8-e310b3b794a3"
      },
      "execution_count": null,
      "outputs": [
        {
          "output_type": "execute_result",
          "data": {
            "text/plain": [
              "array([ 79.72,  81.08,  79.68,  79.8 ,  80.63,  80.8 ,  80.28,  78.99,\n",
              "        76.77,  76.09,  76.36,  77.16,  77.5 ,  79.03,  80.28,  80.05,\n",
              "        78.11,  76.9 ,  77.68,  76.05,  75.53,  73.39,  78.36,  89.16,\n",
              "       105.43, 104.82, 101.15,  98.63,  99.96,  97.29,  98.64, 104.26,\n",
              "       102.63,  98.64,  97.17,  98.09, 103.07, 110.26, 110.84, 112.28,\n",
              "       111.1 , 110.06, 113.7 , 112.88, 102.08,  95.54,  91.33,  89.99,\n",
              "        91.44,  93.51,  93.6 ,  93.78,  98.91, 121.76, 129.6 , 127.9 ,\n",
              "       114.55, 101.88,  99.09, 103.35, 106.58, 108.  , 114.95, 121.17,\n",
              "       122.48, 127.58, 131.89, 129.36, 104.26,  93.45,  92.93,  96.15,\n",
              "        99.1 , 103.  , 103.31, 103.01, 107.37, 116.91, 125.29, 123.94,\n",
              "       113.03, 102.19,  97.83, 101.07, 103.44, 108.23, 110.28])"
            ]
          },
          "metadata": {},
          "execution_count": 22
        }
      ]
    },
    {
      "cell_type": "markdown",
      "source": [
        "Verifying the number of elements in Moscow"
      ],
      "metadata": {
        "id": "ddkVw7X9EtRw"
      }
    },
    {
      "cell_type": "code",
      "source": [
        "# Moscow is an one-dimensional list\n",
        "Moscow.shape"
      ],
      "metadata": {
        "colab": {
          "base_uri": "https://localhost:8080/"
        },
        "id": "9meSjCbuEyb2",
        "outputId": "29aa3b2c-5166-4f76-f38d-9351ca02c90c"
      },
      "execution_count": null,
      "outputs": [
        {
          "output_type": "execute_result",
          "data": {
            "text/plain": [
              "(87,)"
            ]
          },
          "metadata": {},
          "execution_count": 23
        }
      ]
    },
    {
      "cell_type": "markdown",
      "source": [
        "Getting the prices of Moscow of each year"
      ],
      "metadata": {
        "id": "FWUA3_2aFS1s"
      }
    },
    {
      "cell_type": "code",
      "source": [
        "Moscow_year1 = Moscow[0:12]\n",
        "Moscow_year2 = Moscow[12:24]\n",
        "Moscow_year3 = Moscow[24:36]\n",
        "Moscow_year4 = Moscow[36:48]"
      ],
      "metadata": {
        "id": "5cfKiYwXFbS5"
      },
      "execution_count": null,
      "outputs": []
    },
    {
      "cell_type": "markdown",
      "source": [
        "Generating graphs based on the prices of Moscow of each year"
      ],
      "metadata": {
        "id": "ikFUJQ-iGFVR"
      }
    },
    {
      "cell_type": "code",
      "source": [
        "plt.plot(np.arange(1, 13, 1), Moscow_year1)\n",
        "plt.plot(np.arange(1, 13, 1), Moscow_year2)\n",
        "plt.plot(np.arange(1, 13, 1), Moscow_year3)\n",
        "plt.plot(np.arange(1, 13, 1), Moscow_year4)\n",
        "\n",
        "plt.legend(['1st year', '2nd year', '3rd year', '4th year'])"
      ],
      "metadata": {
        "colab": {
          "base_uri": "https://localhost:8080/",
          "height": 447
        },
        "id": "yqxYy0BWGO83",
        "outputId": "c900756b-453e-420f-9444-a2af6663bdbc"
      },
      "execution_count": null,
      "outputs": [
        {
          "output_type": "execute_result",
          "data": {
            "text/plain": [
              "<matplotlib.legend.Legend at 0x7a3fb8637940>"
            ]
          },
          "metadata": {},
          "execution_count": 27
        },
        {
          "output_type": "display_data",
          "data": {
            "text/plain": [
              "<Figure size 640x480 with 1 Axes>"
            ],
            "image/png": "[encoded data removed]"
          },
          "metadata": {}
        }
      ]
    },
    {
      "cell_type": "markdown",
      "source": [
        "Comparing if two lists are equal or not with NumPy"
      ],
      "metadata": {
        "id": "yOTJApujIYl7"
      }
    },
    {
      "cell_type": "code",
      "source": [
        "# Two lists have the same shape and elements?\n",
        "np.array_equal(Moscow_year3, Moscow_year4)"
      ],
      "metadata": {
        "colab": {
          "base_uri": "https://localhost:8080/"
        },
        "id": "C18LwiCcIg3y",
        "outputId": "9f2bfbd4-eba2-42ac-9ba1-c4e50012f39a"
      },
      "execution_count": null,
      "outputs": [
        {
          "output_type": "execute_result",
          "data": {
            "text/plain": [
              "False"
            ]
          },
          "metadata": {},
          "execution_count": 28
        }
      ]
    },
    {
      "cell_type": "code",
      "source": [
        "# Two list are similar, they are close?\n",
        "''' The 3rd argument (0.01 in this case) is used to verify if\n",
        "the variation distance between the lists are smaller than it '''\n",
        "np.allclose(Moscow_year3, Moscow_year4, 0.01)"
      ],
      "metadata": {
        "colab": {
          "base_uri": "https://localhost:8080/"
        },
        "id": "tPKZpT69JRdZ",
        "outputId": "52436116-8efa-4a67-dda2-629b7d8f1cf0"
      },
      "execution_count": null,
      "outputs": [
        {
          "output_type": "execute_result",
          "data": {
            "text/plain": [
              "False"
            ]
          },
          "metadata": {},
          "execution_count": 30
        }
      ]
    },
    {
      "cell_type": "markdown",
      "source": [
        "Verifying if there are NaN values e dealing with them"
      ],
      "metadata": {
        "id": "nEHLmAxWdW0e"
      }
    },
    {
      "cell_type": "code",
      "source": [
        "plt.plot(dates, Kaliningrad)"
      ],
      "metadata": {
        "colab": {
          "base_uri": "https://localhost:8080/",
          "height": 447
        },
        "id": "P1A_OU7qdiyb",
        "outputId": "8393114c-9c41-4090-9fbf-c162cd3884ac"
      },
      "execution_count": 31,
      "outputs": [
        {
          "output_type": "execute_result",
          "data": {
            "text/plain": [
              "[<matplotlib.lines.Line2D at 0x7a3fb8020c10>]"
            ]
          },
          "metadata": {},
          "execution_count": 31
        },
        {
          "output_type": "display_data",
          "data": {
            "text/plain": [
              "<Figure size 640x480 with 1 Axes>"
            ],
            "image/png": "[encoded data removed]"
          },
          "metadata": {}
        }
      ]
    },
    {
      "cell_type": "code",
      "source": [
        "Kaliningrad"
      ],
      "metadata": {
        "colab": {
          "base_uri": "https://localhost:8080/"
        },
        "id": "SaLnackUelNF",
        "outputId": "fbbc67e1-58f1-48a7-c75f-05089090bee0"
      },
      "execution_count": 32,
      "outputs": [
        {
          "output_type": "execute_result",
          "data": {
            "text/plain": [
              "array([ 42.67,  44.37,  44.73,  46.75,    nan,  51.59,  57.8 ,  62.14,\n",
              "        56.76,  50.85,  46.43,  46.73,  45.85,  49.25,  48.14,  49.18,\n",
              "        49.49,  49.83,  49.14,  63.21,  61.2 ,  60.34,  62.2 ,  74.2 ,\n",
              "        75.32,  75.92,  72.89,  74.85,  92.19,  99.7 , 102.78,  92.67,\n",
              "        90.63,  83.31,  75.5 ,  74.6 ,  76.94,  83.04,  80.74,  80.29,\n",
              "        82.82,  86.29,  87.41,  85.1 ,  78.08,  76.06,  69.23,  69.04,\n",
              "        64.48,  65.73,  67.2 ,  70.25,  82.59,  92.12, 100.82,  95.23,\n",
              "        89.51,  82.84,  82.3 ,  83.76,  84.72,  83.91,  99.14, 101.6 ,\n",
              "       113.03, 119.54, 118.09, 107.32,  82.6 ,  77.4 ,  71.77,  71.25,\n",
              "        71.35,  73.62,  76.2 ,  74.15,  75.67,  79.2 ,  80.85,  85.33,\n",
              "        75.02,  77.95,  78.98,  76.55,  74.89,  70.  ,  81.53])"
            ]
          },
          "metadata": {},
          "execution_count": 32
        }
      ]
    },
    {
      "cell_type": "code",
      "source": [
        "# 'isnan()' returns True or False if the value is Not a Number (NaN)\n",
        "np.isnan(Kaliningrad)"
      ],
      "metadata": {
        "colab": {
          "base_uri": "https://localhost:8080/"
        },
        "id": "UZM2v9kme5WY",
        "outputId": "efaf6ab0-3e6f-47d6-bd1f-477a49e80252"
      },
      "execution_count": 33,
      "outputs": [
        {
          "output_type": "execute_result",
          "data": {
            "text/plain": [
              "array([False, False, False, False,  True, False, False, False, False,\n",
              "       False, False, False, False, False, False, False, False, False,\n",
              "       False, False, False, False, False, False, False, False, False,\n",
              "       False, False, False, False, False, False, False, False, False,\n",
              "       False, False, False, False, False, False, False, False, False,\n",
              "       False, False, False, False, False, False, False, False, False,\n",
              "       False, False, False, False, False, False, False, False, False,\n",
              "       False, False, False, False, False, False, False, False, False,\n",
              "       False, False, False, False, False, False, False, False, False,\n",
              "       False, False, False, False, False, False])"
            ]
          },
          "metadata": {},
          "execution_count": 33
        }
      ]
    },
    {
      "cell_type": "code",
      "source": [
        "# Sum the number of NaN values and returns it\n",
        "sum(np.isnan(Kaliningrad))"
      ],
      "metadata": {
        "colab": {
          "base_uri": "https://localhost:8080/"
        },
        "id": "x0KK2xV_fa3A",
        "outputId": "c062ae82-be83-47bc-c0b3-875621ba8397"
      },
      "execution_count": 34,
      "outputs": [
        {
          "output_type": "execute_result",
          "data": {
            "text/plain": [
              "1"
            ]
          },
          "metadata": {},
          "execution_count": 34
        }
      ]
    },
    {
      "cell_type": "code",
      "source": [
        "# Finding an aproximate value for NaN values\n",
        "(Kaliningrad[3] + Kaliningrad[5]) / 2\n",
        "\n",
        "# Or using the NumPy built-in function 'mean()'...\n",
        "Kaliningrad[4] = np.mean([Kaliningrad[3], Kaliningrad[5]])"
      ],
      "metadata": {
        "id": "2UEKDm4lfwZ6"
      },
      "execution_count": 38,
      "outputs": []
    },
    {
      "cell_type": "code",
      "source": [
        "plt.plot(dates, Kaliningrad)"
      ],
      "metadata": {
        "colab": {
          "base_uri": "https://localhost:8080/",
          "height": 447
        },
        "id": "wzvLmMsyg_j9",
        "outputId": "274a25fe-6e84-4b13-846e-06c7d0b453c5"
      },
      "execution_count": 39,
      "outputs": [
        {
          "output_type": "execute_result",
          "data": {
            "text/plain": [
              "[<matplotlib.lines.Line2D at 0x7a3fb459a110>]"
            ]
          },
          "metadata": {},
          "execution_count": 39
        },
        {
          "output_type": "display_data",
          "data": {
            "text/plain": [
              "<Figure size 640x480 with 1 Axes>"
            ],
            "image/png": "[encoded data removed]"
          },
          "metadata": {}
        }
      ]
    },
    {
      "cell_type": "markdown",
      "source": [
        "Comparing the apple price average between different cities"
      ],
      "metadata": {
        "id": "0y1eA18thfys"
      }
    },
    {
      "cell_type": "code",
      "source": [
        "np.mean(Moscow)"
      ],
      "metadata": {
        "colab": {
          "base_uri": "https://localhost:8080/"
        },
        "id": "v9xs7LSWhupf",
        "outputId": "46332a43-29af-4639-fc0d-458169487d7e"
      },
      "execution_count": 43,
      "outputs": [
        {
          "output_type": "execute_result",
          "data": {
            "text/plain": [
              "98.79781609195402"
            ]
          },
          "metadata": {},
          "execution_count": 43
        }
      ]
    },
    {
      "cell_type": "code",
      "source": [
        "np.mean(Kaliningrad)"
      ],
      "metadata": {
        "colab": {
          "base_uri": "https://localhost:8080/"
        },
        "id": "Aeg0QP_rh3Lo",
        "outputId": "6cd7cbb6-f4ca-495b-9634-56efe89c5701"
      },
      "execution_count": 42,
      "outputs": [
        {
          "output_type": "execute_result",
          "data": {
            "text/plain": [
              "74.5506896551724"
            ]
          },
          "metadata": {},
          "execution_count": 42
        }
      ]
    }
  ]
}