{
  "nbformat": 4,
  "nbformat_minor": 0,
  "metadata": {
    "colab": {
      "provenance": [],
      "authorship_tag": "ABX9TyPjrPNFZmQs9YT6l7c0BD6d",
      "include_colab_link": true
    },
    "kernelspec": {
      "name": "python3",
      "display_name": "Python 3"
    },
    "language_info": {
      "name": "python"
    }
  },
  "cells": [
    {
      "cell_type": "markdown",
      "metadata": {
        "id": "view-in-github",
        "colab_type": "text"
      },
      "source": [
        "<a href=\"https://colab.research.google.com/github/Matheus-Pombeiro/NumPy_course/blob/main/NumPy_challenge.ipynb\" target=\"_parent\"><img src=\"https://colab.research.google.com/assets/colab-badge.svg\" alt=\"Open In Colab\"/></a>"
      ]
    },
    {
      "cell_type": "markdown",
      "source": [
        "# **Oranges vs. Grapefruit**\n",
        "\n",
        "## Challenge using NumPy"
      ],
      "metadata": {
        "id": "-ZsyTqde7INi"
      }
    },
    {
      "cell_type": "markdown",
      "source": [
        "Importing NumPy and the dataset used on this challenge\n",
        "\n",
        "PS: The dataset about oranges vs. grapefruit comes from Kaggle"
      ],
      "metadata": {
        "id": "niNd55qB7cLd"
      }
    },
    {
      "cell_type": "code",
      "execution_count": 3,
      "metadata": {
        "id": "hTcFnRYv7CvU"
      },
      "outputs": [],
      "source": [
        "import numpy as np\n",
        "\n",
        "url = 'https://raw.githubusercontent.com/allanspadini/numpy/dados/citrus.csv'"
      ]
    },
    {
      "cell_type": "markdown",
      "source": [
        "Calling the 'loadtxt()' function to use the dataset"
      ],
      "metadata": {
        "id": "QKDK7Aop8F_h"
      }
    },
    {
      "cell_type": "code",
      "source": [
        "data = np.loadtxt(url, delimiter=',', usecols=np.arange(1, 6, 1), skiprows=1)\n",
        "data"
      ],
      "metadata": {
        "colab": {
          "base_uri": "https://localhost:8080/"
        },
        "id": "Vl-m8Nj-8MLY",
        "outputId": "98c6080d-82b9-4c64-9e5a-fe13fe27cf94"
      },
      "execution_count": 4,
      "outputs": [
        {
          "output_type": "execute_result",
          "data": {
            "text/plain": [
              "array([[  2.96,  86.76, 172.  ,  85.  ,   2.  ],\n",
              "       [  3.91,  88.05, 166.  ,  78.  ,   3.  ],\n",
              "       [  4.42,  95.17, 156.  ,  81.  ,   2.  ],\n",
              "       ...,\n",
              "       [ 15.59, 256.5 , 168.  ,  82.  ,  20.  ],\n",
              "       [ 15.92, 260.14, 142.  ,  72.  ,  11.  ],\n",
              "       [ 16.45, 261.51, 152.  ,  74.  ,   2.  ]])"
            ]
          },
          "metadata": {},
          "execution_count": 4
        }
      ]
    },
    {
      "cell_type": "markdown",
      "source": [
        "Storing the 'diametro' and 'peso' values within their own lists"
      ],
      "metadata": {
        "id": "gdjr3KTRjM7C"
      }
    },
    {
      "cell_type": "code",
      "source": [
        "orange_diameter = data[:5000, 0]\n",
        "orange_weight = data[:5000, 1]"
      ],
      "metadata": {
        "id": "yrXIwG5Ujhrc"
      },
      "execution_count": 9,
      "outputs": []
    },
    {
      "cell_type": "code",
      "source": [
        "grapefruit_diameter = data[5000:, 0]\n",
        "grapefruit_weight = data[5000:, 1]"
      ],
      "metadata": {
        "id": "amuql6bYj8sO"
      },
      "execution_count": 8,
      "outputs": []
    },
    {
      "cell_type": "markdown",
      "source": [
        "Generating graphs to the fruits based on their diameters and weights"
      ],
      "metadata": {
        "id": "avUoglSjkXUD"
      }
    },
    {
      "cell_type": "code",
      "source": [
        "import matplotlib.pyplot as plt"
      ],
      "metadata": {
        "id": "ItbotrdVkXFm"
      },
      "execution_count": 7,
      "outputs": []
    },
    {
      "cell_type": "code",
      "source": [
        "# Orange and grapefruit graph\n",
        "plt.plot(orange_diameter, orange_weight)\n",
        "plt.plot(grapefruit_diameter, grapefruit_weight)\n",
        "plt.legend(['Orange', 'Grapefruit'])"
      ],
      "metadata": {
        "colab": {
          "base_uri": "https://localhost:8080/",
          "height": 447
        },
        "id": "AuMLvTqMkplv",
        "outputId": "b1006ec9-cad2-403d-8d1d-c0ce25e198e5"
      },
      "execution_count": 13,
      "outputs": [
        {
          "output_type": "execute_result",
          "data": {
            "text/plain": [
              "<matplotlib.legend.Legend at 0x7b61bcbcb190>"
            ]
          },
          "metadata": {},
          "execution_count": 13
        },
        {
          "output_type": "display_data",
          "data": {
            "text/plain": [
              "<Figure size 640x480 with 1 Axes>"
            ],
            "image/png": "[encoded data removed]"
          },
          "metadata": {}
        }
      ]
    }
  ]
}