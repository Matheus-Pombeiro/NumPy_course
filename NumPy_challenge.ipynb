{
  "nbformat": 4,
  "nbformat_minor": 0,
  "metadata": {
    "colab": {
      "provenance": [],
      "authorship_tag": "ABX9TyNJ5NmvCJQyBdnhb9sPZrto",
      "include_colab_link": true
    },
    "kernelspec": {
      "name": "python3",
      "display_name": "Python 3"
    },
    "language_info": {
      "name": "python"
    }
  },
  "cells": [
    {
      "cell_type": "markdown",
      "metadata": {
        "id": "view-in-github",
        "colab_type": "text"
      },
      "source": [
        "<a href=\"https://colab.research.google.com/github/Matheus-Pombeiro/NumPy_course/blob/main/NumPy_challenge.ipynb\" target=\"_parent\"><img src=\"https://colab.research.google.com/assets/colab-badge.svg\" alt=\"Open In Colab\"/></a>"
      ]
    },
    {
      "cell_type": "markdown",
      "source": [
        "# **Oranges vs. Grapefruit**\n",
        "\n",
        "## Challenge using NumPy"
      ],
      "metadata": {
        "id": "-ZsyTqde7INi"
      }
    },
    {
      "cell_type": "markdown",
      "source": [
        "Importing NumPy and the dataset used on this challenge\n",
        "\n",
        "PS: The dataset about oranges vs. grapefruit comes from Kaggle"
      ],
      "metadata": {
        "id": "niNd55qB7cLd"
      }
    },
    {
      "cell_type": "code",
      "execution_count": 1,
      "metadata": {
        "id": "hTcFnRYv7CvU"
      },
      "outputs": [],
      "source": [
        "import numpy as np\n",
        "\n",
        "url = 'https://raw.githubusercontent.com/allanspadini/numpy/dados/citrus.csv'"
      ]
    },
    {
      "cell_type": "markdown",
      "source": [
        "Calling the 'loadtxt()' function to use the dataset"
      ],
      "metadata": {
        "id": "QKDK7Aop8F_h"
      }
    },
    {
      "cell_type": "code",
      "source": [
        "data = np.loadtxt(url, delimiter=',', usecols=np.arange(1, 6, 1), skiprows=1)\n",
        "data"
      ],
      "metadata": {
        "colab": {
          "base_uri": "https://localhost:8080/"
        },
        "id": "Vl-m8Nj-8MLY",
        "outputId": "706dba7e-cb58-40a6-9f85-a7f4325239b7"
      },
      "execution_count": 2,
      "outputs": [
        {
          "output_type": "execute_result",
          "data": {
            "text/plain": [
              "array([[  2.96,  86.76, 172.  ,  85.  ,   2.  ],\n",
              "       [  3.91,  88.05, 166.  ,  78.  ,   3.  ],\n",
              "       [  4.42,  95.17, 156.  ,  81.  ,   2.  ],\n",
              "       ...,\n",
              "       [ 15.59, 256.5 , 168.  ,  82.  ,  20.  ],\n",
              "       [ 15.92, 260.14, 142.  ,  72.  ,  11.  ],\n",
              "       [ 16.45, 261.51, 152.  ,  74.  ,   2.  ]])"
            ]
          },
          "metadata": {},
          "execution_count": 2
        }
      ]
    },
    {
      "cell_type": "markdown",
      "source": [
        "Storing the 'diametro' and 'peso' values within their own lists"
      ],
      "metadata": {
        "id": "gdjr3KTRjM7C"
      }
    },
    {
      "cell_type": "code",
      "source": [
        "orange_diameter = data[:5000, 0]\n",
        "orange_weight = data[:5000, 1]"
      ],
      "metadata": {
        "id": "yrXIwG5Ujhrc"
      },
      "execution_count": 3,
      "outputs": []
    },
    {
      "cell_type": "code",
      "source": [
        "grapefruit_diameter = data[5000:, 0]\n",
        "grapefruit_weight = data[5000:, 1]"
      ],
      "metadata": {
        "id": "amuql6bYj8sO"
      },
      "execution_count": 4,
      "outputs": []
    },
    {
      "cell_type": "markdown",
      "source": [
        "Generating graphs to the fruits based on their diameters and weights"
      ],
      "metadata": {
        "id": "avUoglSjkXUD"
      }
    },
    {
      "cell_type": "code",
      "source": [
        "import matplotlib.pyplot as plt"
      ],
      "metadata": {
        "id": "ItbotrdVkXFm"
      },
      "execution_count": 5,
      "outputs": []
    },
    {
      "cell_type": "code",
      "source": [
        "# Orange and grapefruit graph\n",
        "plt.plot(orange_diameter, orange_weight)\n",
        "plt.plot(grapefruit_diameter, grapefruit_weight)\n",
        "plt.legend(['Orange', 'Grapefruit'])\n",
        "plt.ylabel('Weight')\n",
        "plt.xlabel('Diameter')"
      ],
      "metadata": {
        "colab": {
          "base_uri": "https://localhost:8080/",
          "height": 466
        },
        "id": "AuMLvTqMkplv",
        "outputId": "5a00f13b-ed37-4e73-e847-537e1e69d02c"
      },
      "execution_count": null,
      "outputs": [
        {
          "output_type": "execute_result",
          "data": {
            "text/plain": [
              "Text(0.5, 0, 'Diameter')"
            ]
          },
          "metadata": {},
          "execution_count": 10
        },
        {
          "output_type": "display_data",
          "data": {
            "text/plain": [
              "<Figure size 640x480 with 1 Axes>"
            ],
            "image/png": "[encoded data removed]"
          },
          "metadata": {}
        }
      ]
    },
    {
      "cell_type": "markdown",
      "source": [
        "Using linear regression techniques on the orange dataset"
      ],
      "metadata": {
        "id": "1_fhYQJdNhuw"
      }
    },
    {
      "cell_type": "code",
      "source": [
        "y_orange = orange_weight\n",
        "x_orange = orange_diameter\n",
        "n = np.size(x_orange)\n",
        "\n",
        "a = (n * np.sum(x_orange * y_orange) - np.sum(x_orange) * np.sum(y_orange)) / (n * np.sum(x_orange ** 2) - (np.sum(x_orange) ** 2))\n",
        "b = np.mean(y_orange) - a * np.mean(x_orange)"
      ],
      "metadata": {
        "id": "NgGxDXKoNvDv"
      },
      "execution_count": 6,
      "outputs": []
    },
    {
      "cell_type": "markdown",
      "source": [
        "Generting random numbers to calculate the norm"
      ],
      "metadata": {
        "id": "O0YHm1T1D8nf"
      }
    },
    {
      "cell_type": "code",
      "source": [
        "norm = np.array([])\n",
        "np.random.seed(84)\n",
        "angular_coefficients = np.random.uniform(low=0, high=30, size=100)\n",
        "\n",
        "for i in range(100):\n",
        "  norm = np.append(norm, np.linalg.norm(y_orange - (angular_coefficients[i] * x_orange + 17)))\n",
        "\n",
        "norm"
      ],
      "metadata": {
        "colab": {
          "base_uri": "https://localhost:8080/"
        },
        "id": "8HP2k8PnEC-9",
        "outputId": "6363dfa8-445b-477f-a5d3-2cce52cebd35"
      },
      "execution_count": 8,
      "outputs": [
        {
          "output_type": "execute_result",
          "data": {
            "text/plain": [
              "array([8856.43555923, 2965.7067987 , 5289.6705558 , 1734.02010579,\n",
              "       8303.40020629, 7319.9773923 , 6538.5555502 , 4999.02697864,\n",
              "       2091.4471608 , 7312.14791917, 4415.14472694,  700.30995733,\n",
              "       7883.5032911 , 4289.06273091, 2157.10668452,  124.90062348,\n",
              "       6430.12215427, 6022.56908374, 7402.44741046, 7769.83714738,\n",
              "       1457.47467874, 6447.66673324, 8345.11729062, 8409.215505  ,\n",
              "       3219.39412319, 5566.04507227, 1907.97717376, 5883.75125593,\n",
              "       8091.08422333, 7177.80927703,  380.85240501, 4846.03337764,\n",
              "       4029.23235841, 3678.50443037, 7042.97877975, 5225.97959212,\n",
              "       6765.19059435,  645.958023  , 3677.90296679, 6152.35201175,\n",
              "       7033.95393852, 2791.11389048, 8385.34280504, 4518.57861037,\n",
              "        609.40651346, 7506.79948258, 8905.10414661, 6824.53106715,\n",
              "       1826.29821292, 2839.07618408, 8599.55186446, 1667.97624922,\n",
              "        835.16987189, 2212.72471994, 1490.54711199,  370.25985486,\n",
              "       7298.62000652, 4888.19302449, 9371.85905419, 3003.34113954,\n",
              "       4982.20470649, 1985.46718408,  157.74398306, 5436.83497002,\n",
              "       3313.19943979, 6248.27260588, 9379.03394387, 8132.84572648,\n",
              "       5049.09052319, 7770.66811951, 9461.78567724, 4548.41282577,\n",
              "       5562.20144279, 9643.49849447, 3352.21705306, 1702.97405775,\n",
              "       6394.24963133,  477.51293887, 4554.09419323, 7611.69614379,\n",
              "       1068.59988195, 4967.67968056, 4077.91081763, 9304.61705383,\n",
              "       4556.28942025, 5005.92393492, 7537.01479202, 3448.6809728 ,\n",
              "       5376.62726081,  739.43376483, 7452.6723572 ,  842.43996119,\n",
              "        230.7055219 ,  927.25875666, 1320.24553161,  153.19388324,\n",
              "       1733.86396738, 3285.14947309, 3920.85768602, 3809.79139073])"
            ]
          },
          "metadata": {},
          "execution_count": 8
        }
      ]
    }
  ]
}